{
 "cells": [
  {
   "cell_type": "markdown",
   "id": "e124a6a5",
   "metadata": {},
   "source": [
    "## 1. Create a null vector of size 10 but the fifth value which is 1"
   ]
  },
  {
   "cell_type": "code",
   "execution_count": 26,
   "id": "c9514f30",
   "metadata": {},
   "outputs": [
    {
     "name": "stdout",
     "output_type": "stream",
     "text": [
      "[0 0 0 0 1 0 0 0 0 0]\n"
     ]
    }
   ],
   "source": [
    "import numpy as np\n",
    "\n",
    "#initializing vector using zeros\n",
    "null_vector = np.zeros(10,dtype = int)\n",
    "#changing 5th element\n",
    "null_vector[4] = 1\n",
    "print(null_vector)"
   ]
  },
  {
   "cell_type": "markdown",
   "id": "7e65982c",
   "metadata": {},
   "source": [
    "### Alternative solution"
   ]
  },
  {
   "cell_type": "code",
   "execution_count": 19,
   "id": "278a20c6",
   "metadata": {},
   "outputs": [
    {
     "name": "stdout",
     "output_type": "stream",
     "text": [
      "[0 0 0 0 1 0 0 0 0 0]\n"
     ]
    }
   ],
   "source": [
    "# gives an array of all False values except for one True at position 4.\n",
    "vect = np.arange(10) == 4\n",
    "null_vect = vect*(1)\n",
    "print(null_vect)"
   ]
  },
  {
   "cell_type": "markdown",
   "id": "57beb2f1",
   "metadata": {},
   "source": [
    "## 2. Create a vector with values ranging from 10 to 49."
   ]
  },
  {
   "cell_type": "code",
   "execution_count": 25,
   "id": "c82abebe",
   "metadata": {},
   "outputs": [
    {
     "name": "stdout",
     "output_type": "stream",
     "text": [
      "[10 11 12 13 14 15 16 17 18 19 20 21 22 23 24 25 26 27 28 29 30 31 32 33\n",
      " 34 35 36 37 38 39 40 41 42 43 44 45 46 47 48 49]\n"
     ]
    }
   ],
   "source": [
    "vector_1 = np.arange(10,50)\n",
    "print(vector_1)"
   ]
  },
  {
   "cell_type": "markdown",
   "id": "bad9a0eb",
   "metadata": {},
   "source": [
    "## 3. Create a 3x3 matrix with values ranging from 0 to 8"
   ]
  },
  {
   "cell_type": "code",
   "execution_count": 28,
   "id": "a8685881",
   "metadata": {},
   "outputs": [
    {
     "name": "stdout",
     "output_type": "stream",
     "text": [
      "[[0 1 2]\n",
      " [3 4 5]\n",
      " [6 7 8]]\n"
     ]
    }
   ],
   "source": [
    "matrix = np.arange(9).reshape((3,3))\n",
    "print(matrix)"
   ]
  },
  {
   "cell_type": "markdown",
   "id": "55cc2e56",
   "metadata": {},
   "source": [
    "## 4. Find indices of non-zero elements from [1,2,0,0,4,0]"
   ]
  },
  {
   "cell_type": "code",
   "execution_count": 65,
   "id": "1e4e779f",
   "metadata": {},
   "outputs": [
    {
     "name": "stdout",
     "output_type": "stream",
     "text": [
      "Indices of non zero elements are\n",
      "[0 1 4]\n",
      "\n"
     ]
    }
   ],
   "source": [
    "arr = np.array([1,2,0,0,4,0])\n",
    "out_arr = np.nonzero(arr)\n",
    "print (\"Indices of non zero elements are\\n%s\\n\"%(out_arr[0])) "
   ]
  },
  {
   "cell_type": "markdown",
   "id": "40e463ce",
   "metadata": {},
   "source": [
    "## 5. Create a 10x10 array with random values and find the minimum and maximum values."
   ]
  },
  {
   "cell_type": "code",
   "execution_count": 66,
   "id": "cc3aa598",
   "metadata": {},
   "outputs": [
    {
     "name": "stdout",
     "output_type": "stream",
     "text": [
      "Maximum value of array is\n",
      "99\n",
      "\n",
      "Minimum value of array is\n",
      "3\n",
      "\n"
     ]
    }
   ],
   "source": [
    "np.random.seed(8)\n",
    "mat = np.random.randint(1,100,(10,10))\n",
    "#print(mat)\n",
    "print('Maximum value of array is\\n%s\\n'%(mat.max()))\n",
    "print('Minimum value of array is\\n%s\\n'%(mat.min()))"
   ]
  },
  {
   "cell_type": "markdown",
   "id": "d1eec795",
   "metadata": {},
   "source": [
    "## 6. Create a random vector of size 30 and find the mean value."
   ]
  },
  {
   "cell_type": "code",
   "execution_count": 67,
   "id": "3426b09b",
   "metadata": {},
   "outputs": [
    {
     "name": "stdout",
     "output_type": "stream",
     "text": [
      "Random vector of size 30 is \n",
      "[[79 62 17 74  9 63 28 31 81  8 77 16 54 81 28 45 78 76 66 48 31 85 87 19\n",
      "  10 42 63  2 83 17]]\n",
      "\n",
      "Mean of random vector is\n",
      "48.666666666666664\n",
      "\n"
     ]
    }
   ],
   "source": [
    "np.random.seed(5)\n",
    "random_vector = np.random.randint(1,100,(1,30))\n",
    "print('Random vector of size 30 is \\n%s\\n'%random_vector)\n",
    "print('Mean of random vector is\\n%s\\n'%(random_vector.mean()))"
   ]
  }
 ],
 "metadata": {
  "kernelspec": {
   "display_name": "Python 3 (ipykernel)",
   "language": "python",
   "name": "python3"
  },
  "language_info": {
   "codemirror_mode": {
    "name": "ipython",
    "version": 3
   },
   "file_extension": ".py",
   "mimetype": "text/x-python",
   "name": "python",
   "nbconvert_exporter": "python",
   "pygments_lexer": "ipython3",
   "version": "3.7.4"
  }
 },
 "nbformat": 4,
 "nbformat_minor": 5
}
